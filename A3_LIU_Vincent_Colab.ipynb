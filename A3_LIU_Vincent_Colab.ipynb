{
 "cells": [
  {
   "cell_type": "code",
   "execution_count": null,
   "metadata": {
    "colab": {
     "base_uri": "https://localhost:8080/"
    },
    "id": "V0THEY0IvdId",
    "outputId": "587d1b13-65a8-40a8-cdc5-c7f5ccc9c0f8"
   },
   "outputs": [
    {
     "name": "stdout",
     "output_type": "stream",
     "text": [
      "Mounted at /content/drive\n"
     ]
    }
   ],
   "source": [
    "from google.colab import drive\n",
    "drive.mount('/content/drive', force_remount=True)"
   ]
  },
  {
   "cell_type": "markdown",
   "metadata": {
    "id": "PA66uT3Fi6Pz"
   },
   "source": [
    "# Process data\n",
    "\n",
    "\n",
    "1.   Unzip both labeled and unlabeled data\n",
    "2.   Crop Images\n",
    "3.   Merge provided train and val data into a single dataset\n",
    "4.   Install packages for pretrained models on ImageNet\n",
    "\n",
    "External data is from https://dl.allaboutbirds.org/nabirds, \n",
    "extract pictures WITHOUT labels with code/preprocess/keep_interesting_classes.py python script"
   ]
  },
  {
   "cell_type": "code",
   "execution_count": null,
   "metadata": {
    "colab": {
     "base_uri": "https://localhost:8080/"
    },
    "id": "Bid4mejezk3v",
    "outputId": "db14074c-1ef0-4e4a-b016-5685b2bab440"
   },
   "outputs": [
    {
     "name": "stdout",
     "output_type": "stream",
     "text": [
      "mkdir: cannot create directory ‘data’: File exists\n",
      "replace data/bird_dataset/test_images/mistery_category/002f61512a368e4c1434eedacf609957.jpg? [y]es, [n]o, [A]ll, [N]one, [r]ename: replace data/external_bird_dataset/519.jpeg? [y]es, [n]o, [A]ll, [N]one, [r]ename: "
     ]
    }
   ],
   "source": [
    "!mkdir data\n",
    "!unzip -q 'drive/My Drive/recvis/A3/data/bird_dataset.zip' -d data\n",
    "!unzip -q 'drive/My Drive/recvis/A3/data/external_bird_dataset.zip' -d data\n",
    "\n",
    "!rm -rf code\n",
    "!cp -r 'drive/My Drive/recvis/A3/code' .\n",
    "\n",
    "!python3 code/preprocess/merge_train_val.py          --src data/bird_dataset                              --dst data/bird_dataset/merged\n",
    "!python3 code/preprocess/crop_images.py --external 0 --src data/bird_dataset                              --dst data/bird_dataset_cropped.csv\n",
    "!python3 code/preprocess/crop_images.py --external 1 --src data/external_bird_dataset                     --dst data/external_bird_dataset.csv\n",
    "!python3 code/preprocess/crop_images.py --external 1 --src data/bird_dataset/test_images/mistery_category --dst data/test_bird_dataset.csv\n",
    "\n",
    "!python3 code/preprocess/train_val_dataframe.py      --src data/bird_dataset/merged    --dst data/bird_dataset_label.csv\n",
    "\n",
    "!pip -q install efficientnet_pytorch\n",
    "!pip -q install pretrainedmodels\n",
    "\n",
    "import pandas as pd\n",
    "df_crop = pd.read_csv(\"data/bird_dataset_cropped.csv\") ; df_label = pd.read_csv(\"data/bird_dataset_label.csv\")\n",
    "df_label.merge(df_crop, on ='Id').to_csv(\"data/bird_dataset.csv\", index=None)"
   ]
  },
  {
   "cell_type": "markdown",
   "metadata": {
    "id": "h_HWd3-yjTYl"
   },
   "source": [
    "# Train EfficientNet on Fold 0 with low LR"
   ]
  },
  {
   "cell_type": "code",
   "execution_count": null,
   "metadata": {
    "colab": {
     "base_uri": "https://localhost:8080/"
    },
    "id": "Fns5NZYluikn",
    "outputId": "2cfdd313-1f6a-4b95-b2bb-fdd6f6a4348a"
   },
   "outputs": [
    {
     "name": "stdout",
     "output_type": "stream",
     "text": [
      "Loaded pretrained weights for efficientnet-b4\n",
      "Using GPU\n",
      "Training from epoch=0, until epoch=39 on fold 0\n",
      "Epoch: 00 / 39 | Alpha Weight: 0.00 | step: 01 | Val acc: 9.24 | Val loss 0.200499\n",
      "Epoch: 01 / 39 | Alpha Weight: 0.00 | step: 02 | Val acc: 16.81 | Val loss 0.198199\n",
      "Epoch: 02 / 39 | Alpha Weight: 0.00 | step: 03 | Val acc: 31.09 | Val loss 0.194101\n",
      "Epoch: 03 / 39 | Alpha Weight: 0.00 | step: 04 | Val acc: 48.74 | Val loss 0.188606\n",
      "Epoch: 04 / 39 | Alpha Weight: 0.00 | step: 05 | Val acc: 63.87 | Val loss 0.180627\n",
      "Epoch: 05 / 39 | Alpha Weight: 0.00 | step: 06 | Val acc: 70.59 | Val loss 0.172536\n",
      "Epoch: 06 / 39 | Alpha Weight: 0.00 | step: 07 | Val acc: 76.47 | Val loss 0.161146\n",
      "Epoch: 07 / 39 | Alpha Weight: 0.00 | step: 08 | Val acc: 77.31 | Val loss 0.148081\n",
      "Epoch: 08 / 39 | Alpha Weight: 0.00 | step: 09 | Val acc: 83.19 | Val loss 0.135175\n",
      "Epoch: 09 / 39 | Alpha Weight: 0.00 | step: 10 | Val acc: 84.03 | Val loss 0.120463\n",
      "Epoch: 10 / 39 | Alpha Weight: 0.00 | step: 11 | Val acc: 83.19 | Val loss 0.106178\n",
      "Epoch: 11 / 39 | Alpha Weight: 0.00 | step: 12 | Val acc: 85.71 | Val loss 0.098417\n",
      "Epoch: 12 / 39 | Alpha Weight: 0.00 | step: 13 | Val acc: 84.03 | Val loss 0.089814\n",
      "Epoch: 13 / 39 | Alpha Weight: 0.00 | step: 14 | Val acc: 87.39 | Val loss 0.083166\n",
      "Epoch: 14 / 39 | Alpha Weight: 0.00 | step: 15 | Val acc: 88.24 | Val loss 0.078637\n",
      "Epoch: 15 / 39 | Alpha Weight: 0.00 | step: 16 | Val acc: 90.76 | Val loss 0.076223\n",
      "Epoch: 16 / 39 | Alpha Weight: 0.00 | step: 17 | Val acc: 91.60 | Val loss 0.071298\n",
      "Epoch: 17 / 39 | Alpha Weight: 0.00 | step: 18 | Val acc: 91.60 | Val loss 0.070767\n",
      "Epoch: 18 / 39 | Alpha Weight: 0.00 | step: 19 | Val acc: 90.76 | Val loss 0.069164\n",
      "Epoch: 19 / 39 | Alpha Weight: 0.00 | step: 20 | Val acc: 91.60 | Val loss 0.065819\n",
      "Epoch: 20 / 39 | Alpha Weight: 0.00 | step: 21 | Val acc: 91.60 | Val loss 0.065278\n",
      "Epoch: 21 / 39 | Alpha Weight: 0.00 | step: 22 | Val acc: 92.44 | Val loss 0.065150\n",
      "Epoch: 22 / 39 | Alpha Weight: 0.00 | step: 23 | Val acc: 91.60 | Val loss 0.064577\n",
      "Epoch: 23 / 39 | Alpha Weight: 0.00 | step: 24 | Val acc: 91.60 | Val loss 0.062375\n",
      "Epoch: 24 / 39 | Alpha Weight: 0.00 | step: 25 | Val acc: 92.44 | Val loss 0.063682\n",
      "Epoch: 25 / 39 | Alpha Weight: 0.00 | step: 26 | Val acc: 94.12 | Val loss 0.062668\n",
      "Epoch: 26 / 39 | Alpha Weight: 0.00 | step: 27 | Val acc: 92.44 | Val loss 0.060772\n",
      "Epoch: 27 / 39 | Alpha Weight: 0.00 | step: 28 | Val acc: 90.76 | Val loss 0.062489\n",
      "Epoch: 28 / 39 | Alpha Weight: 0.00 | step: 29 | Val acc: 92.44 | Val loss 0.061683\n",
      "Epoch: 29 / 39 | Alpha Weight: 0.00 | step: 30 | Val acc: 90.76 | Val loss 0.061128\n",
      "Epoch: 30 / 39 | Alpha Weight: 0.00 | step: 31 | Val acc: 93.28 | Val loss 0.059500\n",
      "Epoch: 31 / 39 | Alpha Weight: 0.00 | step: 32 | Val acc: 93.28 | Val loss 0.059795\n",
      "Epoch: 32 / 39 | Alpha Weight: 0.00 | step: 33 | Val acc: 93.28 | Val loss 0.060760\n",
      "Epoch: 33 / 39 | Alpha Weight: 0.00 | step: 34 | Val acc: 91.60 | Val loss 0.060083\n",
      "Epoch: 34 / 39 | Alpha Weight: 0.00 | step: 35 | Val acc: 93.28 | Val loss 0.060227\n",
      "Epoch: 35 / 39 | Alpha Weight: 0.00 | step: 36 | Val acc: 93.28 | Val loss 0.059606\n",
      "Epoch: 36 / 39 | Alpha Weight: 0.00 | step: 37 | Val acc: 92.44 | Val loss 0.060542\n",
      "Epoch: 37 / 39 | Alpha Weight: 0.00 | step: 38 | Val acc: 92.44 | Val loss 0.060609\n",
      "Epoch: 38 / 39 | Alpha Weight: 0.00 | step: 39 | Val acc: 92.44 | Val loss 0.059214\n",
      "Epoch: 39 / 39 | Alpha Weight: 0.00 | step: 40 | Val acc: 92.44 | Val loss 0.059980\n"
     ]
    }
   ],
   "source": [
    "!python3 code/train.py --k 0 --input_size 300 --freeze 0 --lr 0.0001 --max_lr 0.001 --batch_size 16 --epochs 40 --T1 60 --T2 300 --data_csv data/bird_dataset.csv --experiment experiment --save_best_only 0 --external_data_csv  data/external_bird_dataset.csv"
   ]
  },
  {
   "cell_type": "markdown",
   "metadata": {
    "id": "OuWMGi-kjbaM"
   },
   "source": [
    "Pick the best models"
   ]
  },
  {
   "cell_type": "code",
   "execution_count": null,
   "metadata": {
    "colab": {
     "base_uri": "https://localhost:8080/"
    },
    "id": "CM6cD5VzHl67",
    "outputId": "038cfcdd-650f-4f28-e5a8-1c32cbc8e209"
   },
   "outputs": [
    {
     "name": "stdout",
     "output_type": "stream",
     "text": [
      "93.48739624023438\n",
      "0.420166015625\n"
     ]
    }
   ],
   "source": [
    "!python3 code/keep_best_epoch.py --outfile experiment/best_models.csv --folds 1 --avg 4\n",
    "import pandas as pd; df = pd.read_csv(\"experiment/best_models.csv\"); print(df.loc[:,'val_acc' ].mean()); print(df.loc[:,'val_acc' ].std())"
   ]
  },
  {
   "cell_type": "markdown",
   "metadata": {
    "id": "61LiPwvLjiew"
   },
   "source": [
    "Test time augmentation: \n",
    "\n",
    "* We crop test images using maskrcnn, and retinanet.\n",
    "* We predict with our checkpoint best models on croped images.\n",
    "* We repeat with other parameters (threshold, bounding box increased, padding to square images)"
   ]
  },
  {
   "cell_type": "code",
   "execution_count": null,
   "metadata": {
    "colab": {
     "base_uri": "https://localhost:8080/"
    },
    "id": "MipP-EaGHm27",
    "outputId": "4f4ba241-4f46-432b-e9b4-3a380b5f1e24"
   },
   "outputs": [
    {
     "name": "stdout",
     "output_type": "stream",
     "text": [
      "0it [00:00, ?it/s]Loaded pretrained weights for efficientnet-b4\n",
      "Using GPU\n",
      "100% 517/517 [00:18<00:00, 27.60it/s]\n",
      "Succesfully wrote experiment/preds/preds_0_25, you can upload this file to the kaggle competition website\n",
      "1it [00:27, 27.06s/it]Loaded pretrained weights for efficientnet-b4\n",
      "Using GPU\n",
      "100% 517/517 [00:19<00:00, 27.20it/s]\n",
      "Succesfully wrote experiment/preds/preds_0_30, you can upload this file to the kaggle competition website\n",
      "2it [00:54, 27.16s/it]Loaded pretrained weights for efficientnet-b4\n",
      "Using GPU\n",
      "100% 517/517 [00:18<00:00, 27.99it/s]\n",
      "Succesfully wrote experiment/preds/preds_0_35, you can upload this file to the kaggle competition website\n",
      "3it [01:21, 27.02s/it]Loaded pretrained weights for efficientnet-b4\n",
      "Using GPU\n",
      "100% 517/517 [00:18<00:00, 27.88it/s]\n",
      "Succesfully wrote experiment/preds/preds_0_34, you can upload this file to the kaggle competition website\n",
      "4it [01:47, 26.96s/it]\n",
      "0it [00:00, ?it/s]Loaded pretrained weights for efficientnet-b4\n",
      "Using GPU\n",
      "100% 517/517 [00:17<00:00, 29.70it/s]\n",
      "Succesfully wrote experiment/preds_v2/preds_0_25, you can upload this file to the kaggle competition website\n",
      "1it [00:25, 25.63s/it]Loaded pretrained weights for efficientnet-b4\n",
      "Using GPU\n",
      "100% 517/517 [00:17<00:00, 29.80it/s]\n",
      "Succesfully wrote experiment/preds_v2/preds_0_30, you can upload this file to the kaggle competition website\n",
      "2it [00:51, 25.60s/it]Loaded pretrained weights for efficientnet-b4\n",
      "Using GPU\n",
      "100% 517/517 [00:17<00:00, 29.80it/s]\n",
      "Succesfully wrote experiment/preds_v2/preds_0_35, you can upload this file to the kaggle competition website\n",
      "3it [01:16, 25.59s/it]Loaded pretrained weights for efficientnet-b4\n",
      "Using GPU\n",
      "100% 517/517 [00:17<00:00, 29.50it/s]\n",
      "Succesfully wrote experiment/preds_v2/preds_0_34, you can upload this file to the kaggle competition website\n",
      "4it [01:42, 25.62s/it]\n",
      "Downloading: \"https://download.pytorch.org/models/retinanet_resnet50_fpn_coco-eeacb38b.pth\" to /root/.cache/torch/hub/checkpoints/retinanet_resnet50_fpn_coco-eeacb38b.pth\n",
      "100% 130M/130M [00:02<00:00, 46.0MB/s]\n",
      "0it [00:00, ?it/s]Loaded pretrained weights for efficientnet-b4\n",
      "Using GPU\n",
      "100% 517/517 [00:17<00:00, 28.85it/s]\n",
      "Succesfully wrote experiment/preds_v3/preds_0_25, you can upload this file to the kaggle competition website\n",
      "1it [00:26, 26.20s/it]Loaded pretrained weights for efficientnet-b4\n",
      "Using GPU\n",
      "100% 517/517 [00:17<00:00, 29.13it/s]\n",
      "Succesfully wrote experiment/preds_v3/preds_0_30, you can upload this file to the kaggle competition website\n",
      "2it [00:52, 26.11s/it]Loaded pretrained weights for efficientnet-b4\n",
      "Using GPU\n",
      "100% 517/517 [00:17<00:00, 28.87it/s]\n",
      "Succesfully wrote experiment/preds_v3/preds_0_35, you can upload this file to the kaggle competition website\n",
      "3it [01:18, 26.09s/it]Loaded pretrained weights for efficientnet-b4\n",
      "Using GPU\n",
      "100% 517/517 [00:17<00:00, 29.52it/s]\n",
      "Succesfully wrote experiment/preds_v3/preds_0_34, you can upload this file to the kaggle competition website\n",
      "4it [01:43, 25.93s/it]\n"
     ]
    }
   ],
   "source": [
    "!rm -rf data/bird_dataset\n",
    "!unzip -q 'drive/My Drive/recvis/A3/data/bird_dataset.zip' -d data\n",
    "!python3 code/preprocess/save_crop_images.py --src data/test_bird_dataset.csv --threshold 0.4 --inc 0.3 --square 1\n",
    "!python3 code/predict_best_epoch.py --filename  experiment/best_models.csv --preds_dir experiment/preds --checkpoints experiment/checkpoints \n",
    "\n",
    "!rm -rf data/bird_dataset\n",
    "!unzip -q 'drive/My Drive/recvis/A3/data/bird_dataset.zip' -d data\n",
    "!python3 code/preprocess/save_crop_images.py --src data/test_bird_dataset.csv --threshold 0.6 --inc 0 --square 0\n",
    "!python3 code/predict_best_epoch.py --filename  experiment/best_models.csv --preds_dir experiment/preds_v2 --checkpoints experiment/checkpoints \n",
    "\n",
    "!rm -rf data/bird_dataset\n",
    "!unzip -q 'drive/My Drive/recvis/A3/data/bird_dataset.zip' -d data\n",
    "!python3 code/preprocess/crop_images.py --external 1 --maskrcnn 0 --src data/bird_dataset/test_images/mistery_category --dst data/test_bird_dataset.csv\n",
    "!python3 code/preprocess/save_crop_images.py --src data/test_bird_dataset.csv --threshold 0.6 --inc 0 --square 1\n",
    "!python3 code/predict_best_epoch.py --filename  experiment/best_models.csv --preds_dir experiment/preds_v3 --checkpoints experiment/checkpoints \n",
    "\n",
    "!cp -f --backup --suffix='.copy' experiment/preds_v2/* experiment/preds/\n",
    "!cp -f --backup --suffix='.copy.copy' experiment/preds_v3/* experiment/preds/"
   ]
  },
  {
   "cell_type": "markdown",
   "metadata": {
    "id": "tgF6rEyMkArE"
   },
   "source": [
    "Save some spaces by deleting the checkpoints.\n",
    "\n",
    "Rerun the same process with SE resnext architecture"
   ]
  },
  {
   "cell_type": "code",
   "execution_count": null,
   "metadata": {
    "id": "7SINf-4Ua7C_"
   },
   "outputs": [],
   "source": [
    "!rm -rf experiment/checkpoints\n",
    "!python3 code/preprocess/merge_train_val.py          --src data/bird_dataset                              --dst data/bird_dataset/merged"
   ]
  },
  {
   "cell_type": "code",
   "execution_count": null,
   "metadata": {
    "colab": {
     "base_uri": "https://localhost:8080/"
    },
    "id": "TnRcLzdHT4nI",
    "outputId": "3d6b1b5a-ae98-4061-e8b0-aa36d0819299"
   },
   "outputs": [
    {
     "name": "stdout",
     "output_type": "stream",
     "text": [
      "Downloading: \"http://data.lip6.fr/cadene/pretrainedmodels/se_resnext101_32x4d-3b2fe3d8.pth\" to /root/.cache/torch/hub/checkpoints/se_resnext101_32x4d-3b2fe3d8.pth\n",
      "100% 187M/187M [09:12<00:00, 356kB/s]\n",
      "Using GPU\n",
      "Training from epoch=0, until epoch=39 on fold 0\n",
      "Epoch: 00 / 39 | Alpha Weight: 0.00 | step: 01 | Val acc: 6.72 | Val loss 0.198653\n",
      "Epoch: 01 / 39 | Alpha Weight: 0.00 | step: 02 | Val acc: 21.85 | Val loss 0.191279\n",
      "Epoch: 02 / 39 | Alpha Weight: 0.00 | step: 03 | Val acc: 47.90 | Val loss 0.178318\n",
      "Epoch: 03 / 39 | Alpha Weight: 0.00 | step: 04 | Val acc: 74.79 | Val loss 0.150328\n",
      "Epoch: 04 / 39 | Alpha Weight: 0.00 | step: 05 | Val acc: 81.51 | Val loss 0.107671\n",
      "Epoch: 05 / 39 | Alpha Weight: 0.00 | step: 06 | Val acc: 84.87 | Val loss 0.078790\n",
      "Epoch: 06 / 39 | Alpha Weight: 0.00 | step: 07 | Val acc: 87.39 | Val loss 0.068806\n",
      "Epoch: 07 / 39 | Alpha Weight: 0.00 | step: 08 | Val acc: 87.39 | Val loss 0.063479\n",
      "Epoch: 08 / 39 | Alpha Weight: 0.00 | step: 09 | Val acc: 89.08 | Val loss 0.061533\n",
      "Epoch: 09 / 39 | Alpha Weight: 0.00 | step: 10 | Val acc: 89.92 | Val loss 0.058863\n",
      "Epoch: 10 / 39 | Alpha Weight: 0.00 | step: 11 | Val acc: 89.92 | Val loss 0.058614\n",
      "Epoch: 11 / 39 | Alpha Weight: 0.00 | step: 12 | Val acc: 92.44 | Val loss 0.054656\n",
      "Epoch: 12 / 39 | Alpha Weight: 0.00 | step: 13 | Val acc: 90.76 | Val loss 0.055928\n",
      "Epoch: 13 / 39 | Alpha Weight: 0.00 | step: 14 | Val acc: 91.60 | Val loss 0.056650\n",
      "Epoch: 14 / 39 | Alpha Weight: 0.00 | step: 15 | Val acc: 92.44 | Val loss 0.055828\n",
      "Epoch: 15 / 39 | Alpha Weight: 0.00 | step: 16 | Val acc: 90.76 | Val loss 0.055639\n",
      "Epoch: 16 / 39 | Alpha Weight: 0.00 | step: 17 | Val acc: 93.28 | Val loss 0.055870\n",
      "Epoch: 17 / 39 | Alpha Weight: 0.00 | step: 18 | Val acc: 93.28 | Val loss 0.053638\n",
      "Epoch: 18 / 39 | Alpha Weight: 0.00 | step: 19 | Val acc: 92.44 | Val loss 0.056379\n",
      "Epoch: 19 / 39 | Alpha Weight: 0.00 | step: 20 | Val acc: 92.44 | Val loss 0.054970\n",
      "Epoch: 20 / 39 | Alpha Weight: 0.00 | step: 21 | Val acc: 92.44 | Val loss 0.056036\n",
      "Epoch: 21 / 39 | Alpha Weight: 0.00 | step: 22 | Val acc: 91.60 | Val loss 0.057329\n",
      "Epoch: 22 / 39 | Alpha Weight: 0.00 | step: 23 | Val acc: 91.60 | Val loss 0.055085\n",
      "Epoch: 23 / 39 | Alpha Weight: 0.00 | step: 24 | Val acc: 93.28 | Val loss 0.056164\n",
      "Epoch: 24 / 39 | Alpha Weight: 0.00 | step: 25 | Val acc: 93.28 | Val loss 0.055273\n",
      "Epoch: 25 / 39 | Alpha Weight: 0.00 | step: 26 | Val acc: 92.44 | Val loss 0.056771\n",
      "Epoch: 26 / 39 | Alpha Weight: 0.00 | step: 27 | Val acc: 93.28 | Val loss 0.055258\n",
      "Epoch: 27 / 39 | Alpha Weight: 0.00 | step: 28 | Val acc: 92.44 | Val loss 0.055126\n",
      "Epoch: 28 / 39 | Alpha Weight: 0.00 | step: 29 | Val acc: 92.44 | Val loss 0.056878\n",
      "Epoch: 29 / 39 | Alpha Weight: 0.00 | step: 30 | Val acc: 89.92 | Val loss 0.058436\n",
      "Epoch: 30 / 39 | Alpha Weight: 0.00 | step: 31 | Val acc: 93.28 | Val loss 0.056821\n",
      "Epoch: 31 / 39 | Alpha Weight: 0.00 | step: 32 | Val acc: 93.28 | Val loss 0.055950\n",
      "Epoch: 32 / 39 | Alpha Weight: 0.00 | step: 33 | Val acc: 93.28 | Val loss 0.056065\n",
      "Epoch: 33 / 39 | Alpha Weight: 0.00 | step: 34 | Val acc: 93.28 | Val loss 0.054212\n",
      "Epoch: 34 / 39 | Alpha Weight: 0.00 | step: 35 | Val acc: 92.44 | Val loss 0.057868\n",
      "Epoch: 35 / 39 | Alpha Weight: 0.00 | step: 36 | Val acc: 91.60 | Val loss 0.057026\n",
      "Epoch: 36 / 39 | Alpha Weight: 0.00 | step: 37 | Val acc: 93.28 | Val loss 0.056218\n",
      "Epoch: 37 / 39 | Alpha Weight: 0.00 | step: 38 | Val acc: 92.44 | Val loss 0.056104\n",
      "Epoch: 38 / 39 | Alpha Weight: 0.00 | step: 39 | Val acc: 93.28 | Val loss 0.054088\n",
      "Epoch: 39 / 39 | Alpha Weight: 0.00 | step: 40 | Val acc: 92.44 | Val loss 0.054382\n"
     ]
    }
   ],
   "source": [
    "!python3 code/train.py --k 0 --input_size 300 --arch 'se_resnext101_32x4d' --freeze 0 --lr 0.0001 --max_lr 0.001 --batch_size 16 --epochs 40 --T1 60 --T2 300 --data_csv data/bird_dataset.csv --experiment experiment --save_best_only 0 --external_data_csv  data/external_bird_dataset.csv"
   ]
  },
  {
   "cell_type": "code",
   "execution_count": null,
   "metadata": {
    "colab": {
     "base_uri": "https://localhost:8080/"
    },
    "id": "fudAqDEglAQl",
    "outputId": "bee5ae56-2a26-407b-b65e-303c9044be33"
   },
   "outputs": [
    {
     "name": "stdout",
     "output_type": "stream",
     "text": [
      "93.27731323242188\n",
      "0.0\n"
     ]
    }
   ],
   "source": [
    "!python3 code/keep_best_epoch.py --outfile experiment/best_models.csv --folds 1 --avg 4\n",
    "import pandas as pd; df = pd.read_csv(\"experiment/best_models.csv\"); print(df.loc[:,'val_acc' ].mean()); print(df.loc[:,'val_acc' ].std())"
   ]
  },
  {
   "cell_type": "code",
   "execution_count": null,
   "metadata": {
    "colab": {
     "base_uri": "https://localhost:8080/"
    },
    "id": "9ogDazGIT4rt",
    "outputId": "2207db21-d61d-4171-ac49-c8e4c48c372e"
   },
   "outputs": [
    {
     "name": "stdout",
     "output_type": "stream",
     "text": [
      "0it [00:00, ?it/s]Using GPU\n",
      "100% 517/517 [00:23<00:00, 22.23it/s]\n",
      "Succesfully wrote experiment/preds_v4/preds_0_17, you can upload this file to the kaggle competition website\n",
      "1it [00:50, 50.14s/it]Using GPU\n",
      "100% 517/517 [00:23<00:00, 21.59it/s]\n",
      "Succesfully wrote experiment/preds_v4/preds_0_38, you can upload this file to the kaggle competition website\n",
      "2it [01:22, 44.95s/it]Using GPU\n",
      "100% 517/517 [00:23<00:00, 21.95it/s]\n",
      "Succesfully wrote experiment/preds_v4/preds_0_36, you can upload this file to the kaggle competition website\n",
      "3it [01:55, 41.21s/it]Using GPU\n",
      "100% 517/517 [00:23<00:00, 21.73it/s]\n",
      "Succesfully wrote experiment/preds_v4/preds_0_33, you can upload this file to the kaggle competition website\n",
      "4it [02:31, 37.94s/it]\n",
      "0it [00:00, ?it/s]Using GPU\n",
      "100% 517/517 [00:23<00:00, 22.25it/s]\n",
      "Succesfully wrote experiment/preds_v5/preds_0_17, you can upload this file to the kaggle competition website\n",
      "1it [00:32, 32.23s/it]Using GPU\n",
      "100% 517/517 [00:23<00:00, 22.18it/s]\n",
      "Succesfully wrote experiment/preds_v5/preds_0_38, you can upload this file to the kaggle competition website\n",
      "2it [01:04, 32.23s/it]Using GPU\n",
      "100% 517/517 [00:23<00:00, 22.12it/s]\n",
      "Succesfully wrote experiment/preds_v5/preds_0_36, you can upload this file to the kaggle competition website\n",
      "3it [01:36, 32.23s/it]Using GPU\n",
      "100% 517/517 [00:23<00:00, 22.22it/s]\n",
      "Succesfully wrote experiment/preds_v5/preds_0_33, you can upload this file to the kaggle competition website\n",
      "4it [02:15, 33.78s/it]\n",
      "0it [00:00, ?it/s]Using GPU\n",
      "100% 517/517 [00:22<00:00, 22.56it/s]\n",
      "Succesfully wrote experiment/preds_v6/preds_0_17, you can upload this file to the kaggle competition website\n",
      "1it [00:31, 31.80s/it]Using GPU\n",
      "100% 517/517 [00:22<00:00, 22.69it/s]\n",
      "Succesfully wrote experiment/preds_v6/preds_0_38, you can upload this file to the kaggle competition website\n",
      "2it [01:03, 31.74s/it]Using GPU\n",
      "100% 517/517 [00:22<00:00, 22.56it/s]\n",
      "Succesfully wrote experiment/preds_v6/preds_0_36, you can upload this file to the kaggle competition website\n",
      "3it [01:35, 31.74s/it]Using GPU\n",
      "100% 517/517 [00:23<00:00, 22.43it/s]\n",
      "Succesfully wrote experiment/preds_v6/preds_0_33, you can upload this file to the kaggle competition website\n",
      "4it [02:07, 31.75s/it]\n"
     ]
    }
   ],
   "source": [
    "!rm -rf data/bird_dataset\n",
    "!unzip -q 'drive/My Drive/recvis/A3/data/bird_dataset.zip' -d data\n",
    "!python3 code/preprocess/save_crop_images.py --src data/test_bird_dataset.csv --threshold 0.2 --inc 0.35 --square 0\n",
    "!python3 code/predict_best_epoch.py --filename  experiment/best_models.csv --preds_dir experiment/preds_v4 --checkpoints experiment/checkpoints \n",
    "\n",
    "!rm -rf data/bird_dataset\n",
    "!unzip -q 'drive/My Drive/recvis/A3/data/bird_dataset.zip' -d data\n",
    "!python3 code/preprocess/crop_images.py --external 1 --maskrcnn 1 --src data/bird_dataset/test_images/mistery_category --dst data/test_bird_dataset.csv\n",
    "!python3 code/preprocess/save_crop_images.py --src data/test_bird_dataset.csv --threshold 0.5 --inc 0.2 --square 1\n",
    "!python3 code/predict_best_epoch.py --filename  experiment/best_models.csv --preds_dir experiment/preds_v5 --checkpoints experiment/checkpoints \n",
    "\n",
    "!rm -rf data/bird_dataset\n",
    "!unzip -q 'drive/My Drive/recvis/A3/data/bird_dataset.zip' -d data\n",
    "!python3 code/preprocess/save_crop_images.py --src data/test_bird_dataset.csv --threshold 0.4 --inc 0.1  --square 0\n",
    "!python3 code/predict_best_epoch.py --filename  experiment/best_models.csv --preds_dir experiment/preds_v6 --checkpoints experiment/checkpoints \n",
    "\n",
    "!cp -f --backup --suffix='.copy.copy' experiment/preds_v4/* experiment/preds/\n",
    "!cp -f --backup --suffix='.copy.copy.copy' experiment/preds_v5/* experiment/preds/\n",
    "!cp -f --backup --suffix='.copy.copy.copy.copy' experiment/preds_v6/* experiment/preds/"
   ]
  },
  {
   "cell_type": "markdown",
   "metadata": {
    "id": "ZDHBCGhXkJ8F"
   },
   "source": [
    "Final submission is average predictions from EfficientNet and ResNext."
   ]
  },
  {
   "cell_type": "code",
   "execution_count": null,
   "metadata": {
    "id": "XgPevpZ2ICLG"
   },
   "outputs": [],
   "source": [
    "!python3 code/make_sub.py --src experiment/preds --outfile 'drive/My Drive/recvis/A3/sub_v41.csv'"
   ]
  }
 ],
 "metadata": {
  "accelerator": "GPU",
  "colab": {
   "collapsed_sections": [],
   "name": "A3_LIU_Vincent_Colab.ipynb",
   "provenance": []
  },
  "kernelspec": {
   "display_name": "Python 3",
   "language": "python",
   "name": "python3"
  },
  "language_info": {
   "codemirror_mode": {
    "name": "ipython",
    "version": 3
   },
   "file_extension": ".py",
   "mimetype": "text/x-python",
   "name": "python",
   "nbconvert_exporter": "python",
   "pygments_lexer": "ipython3",
   "version": "3.6.9"
  }
 },
 "nbformat": 4,
 "nbformat_minor": 2
}
